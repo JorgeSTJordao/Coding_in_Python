{
 "cells": [
  {
   "cell_type": "markdown",
   "id": "986406d2",
   "metadata": {},
   "source": [
    "## Importing Numpy Package"
   ]
  },
  {
   "cell_type": "code",
   "execution_count": 13,
   "id": "4bf38b79",
   "metadata": {},
   "outputs": [
    {
     "name": "stdout",
     "output_type": "stream",
     "text": [
      "<class 'list'>\n",
      "<class 'numpy.ndarray'>\n"
     ]
    }
   ],
   "source": [
    "import numpy as np\n",
    "\n",
    "list_ = [1, 2, 3, 4]\n",
    "print(type(list_))\n",
    "\n",
    "list_numpy = np.array([1, 2, 3, 4])\n",
    "print(type(list_numpy))"
   ]
  },
  {
   "cell_type": "markdown",
   "id": "ec3c644a",
   "metadata": {},
   "source": [
    "## Numpy Arithmetic Array Operations"
   ]
  },
  {
   "cell_type": "code",
   "execution_count": 25,
   "id": "d7615517",
   "metadata": {},
   "outputs": [
    {
     "name": "stdout",
     "output_type": "stream",
     "text": [
      "[1 2 3 5]\n",
      "[6 9 3 9]\n",
      "---------------\n",
      "Soma: [ 7 11  6 14]\n",
      "Subtração: [-5 -7  0 -4]\n",
      "Multiplicação: [ 6 18  9 45]\n",
      "Divisão: [0.16666667 0.22222222 1.         0.55555556]\n"
     ]
    }
   ],
   "source": [
    "rng = np.random.default_rng()\n",
    "\n",
    "list_aux = rng.integers(low=1, high=10, size=len(list_numpy))\n",
    "\n",
    "print(list_numpy, list_aux, sep='\\n')\n",
    "\n",
    "print(15*\"-\")\n",
    "\n",
    "print(f\"Soma: {list_numpy + list_aux}\")\n",
    "print(f\"Subtração: {list_numpy - list_aux}\")\n",
    "print(f\"Multiplicação: {list_numpy * list_aux}\")\n",
    "print(f\"Divisão: {list_numpy / list_aux}\")"
   ]
  },
  {
   "cell_type": "code",
   "execution_count": null,
   "id": "c2d53a25",
   "metadata": {},
   "outputs": [],
   "source": []
  }
 ],
 "metadata": {
  "kernelspec": {
   "display_name": "Python 3 (ipykernel)",
   "language": "python",
   "name": "python3"
  },
  "language_info": {
   "codemirror_mode": {
    "name": "ipython",
    "version": 3
   },
   "file_extension": ".py",
   "mimetype": "text/x-python",
   "name": "python",
   "nbconvert_exporter": "python",
   "pygments_lexer": "ipython3",
   "version": "3.11.4"
  }
 },
 "nbformat": 4,
 "nbformat_minor": 5
}
