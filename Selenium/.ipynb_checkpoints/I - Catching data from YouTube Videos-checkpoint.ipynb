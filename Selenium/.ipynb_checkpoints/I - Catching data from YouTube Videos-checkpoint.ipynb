{
 "cells": [
  {
   "cell_type": "code",
   "execution_count": null,
   "id": "d049b31a",
   "metadata": {},
   "outputs": [],
   "source": [
    "#This code is just for songs\n",
    "\n",
    "from selenium import webdriver\n",
    "from selenium.webdriver.chrome.service import Service\n",
    "from webdriver_manager.chrome import ChromeDriverManager\n",
    "from time import sleep\n",
    "\n",
    "service_ = Service(ChromeDriverManager().install())\n",
    "browser = webdriver.Chrome(service=service_)\n",
    "\n",
    "#Videos list\n",
    "videos = ['https://www.youtube.com/watch?v=b1Ny_C5XGNQ', \n",
    "          'https://www.youtube.com/watch?v=ku-mVejksDw',\n",
    "          'https://www.youtube.com/watch?v=kXYiU_JCYtU&list=RDEMww6ZEHgLhQ-8eu_x7Z-FJw&start_radio=1&rv=ku-mVejksDw',\n",
    "          'https://www.youtube.com/watch?v=7NK_JOkuSVY&list=RDEMww6ZEHgLhQ-8eu_x7Z-FJw&index=2'\n",
    "         ]"
   ]
  },
  {
   "cell_type": "code",
   "execution_count": null,
   "id": "0bb8cb8c",
   "metadata": {},
   "outputs": [],
   "source": [
    "from selenium.webdriver.common.by import By\n",
    "\n",
    "#data = {name of the video: [name of the band, number of views, number of likes]}\n",
    "\n",
    "videos_data = {}\n",
    "\n",
    "for video in videos:\n",
    "        values = []\n",
    "        \n",
    "        browser.get(video)\n",
    "        sleep(2.5)\n",
    "        \n",
    "        #Name of the video\n",
    "        video_name = browser.find_element(By.XPATH, '//*[@id=\"title\"]/h1/yt-formatted-string').text\n",
    "        videos_data[video_name] = None\n",
    "        \n",
    "        #Name of the band:\n",
    "        band_name = browser.find_element(By.XPATH, '//*[@id=\"text\"]/a').text\n",
    "        values.append(band_name)\n",
    "        \n",
    "        #Views number\n",
    "        number_of_views = browser.find_element(By.XPATH, '//*[@id=\"info\"]/span[1]').text\n",
    "        values.append(number_of_views)\n",
    "        \n",
    "        #Likes number\n",
    "        number_of_likes = browser.find_element(By.XPATH, '//*[@id=\"top-level-buttons-computed\"]/segmented-like-dislike-button-view-model/yt-smartimation/div/div/like-button-view-model/toggle-button-view-model/button/div[2]').text\n",
    "        values.append(number_of_likes)\n",
    "        \n",
    "        videos_data[video_name] = values\n",
    "        \n",
    "for video in videos_data:\n",
    "    print(videos_data[video])\n",
    "    print(5*\"-\".replace('-', ' '))"
   ]
  },
  {
   "cell_type": "code",
   "execution_count": null,
   "id": "447099fb",
   "metadata": {},
   "outputs": [],
   "source": []
  }
 ],
 "metadata": {
  "kernelspec": {
   "display_name": "Python 3 (ipykernel)",
   "language": "python",
   "name": "python3"
  },
  "language_info": {
   "codemirror_mode": {
    "name": "ipython",
    "version": 3
   },
   "file_extension": ".py",
   "mimetype": "text/x-python",
   "name": "python",
   "nbconvert_exporter": "python",
   "pygments_lexer": "ipython3",
   "version": "3.11.4"
  }
 },
 "nbformat": 4,
 "nbformat_minor": 5
}
